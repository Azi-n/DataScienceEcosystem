{
 "cells": [
  {
   "cell_type": "markdown",
   "id": "5c7b0f4c-f278-401e-809c-bc0e7471757a",
   "metadata": {},
   "source": [
    "# Data Science Tools and Ecosystem"
   ]
  },
  {
   "cell_type": "markdown",
   "id": "74af73be-45c4-47da-9923-827241e1acbb",
   "metadata": {},
   "source": [
    "# In this notebook, Data Science Tools and Ecosystem are summarized."
   ]
  },
  {
   "cell_type": "markdown",
   "id": "138d8de2-59e8-4afd-a740-2f5b8b157f57",
   "metadata": {},
   "source": [
    "**Objectives:**\n",
    "* Popular languages for Data Science\n",
    "* Commonly used libraries for Data Science\n",
    "* Data Science Tools"
   ]
  },
  {
   "cell_type": "markdown",
   "id": "d81b0ac6-fc97-4dd1-b60b-77be198cb3e6",
   "metadata": {},
   "source": [
    "# Some of the popular languages that Data Scientists use are:\n",
    "\n",
    "1. Python\n",
    "2. R\n",
    "3. SQL\n",
    "4. Julia"
   ]
  },
  {
   "cell_type": "markdown",
   "id": "01771ecf-917d-4e99-a486-190ad6eb8023",
   "metadata": {},
   "source": [
    "# Some of the commonly used libraries used by Data Scientists include:\n",
    "\n",
    "1. Pandas\n",
    "2. NumPy\n",
    "3. matplotlib\n",
    "4. caret"
   ]
  },
  {
   "cell_type": "markdown",
   "id": "4021b445-01f4-4c82-a904-024492aaf924",
   "metadata": {},
   "source": [
    "| Data Science Tools |\n",
    "|--------------------|\n",
    "| Jupyter Notebook   |\n",
    "| RStudio            |\n",
    "| VS Code            |"
   ]
  },
  {
   "cell_type": "markdown",
   "id": "d45fce04-25c2-44c8-8fe0-d3e7da6d511d",
   "metadata": {},
   "source": [
    "### Below are a few examples of evaluating arithmetic expressions in Python."
   ]
  },
  {
   "cell_type": "code",
   "execution_count": 3,
   "id": "710afd43-18ff-491e-b521-1c38817cc35d",
   "metadata": {},
   "outputs": [
    {
     "data": {
      "text/plain": [
       "17"
      ]
     },
     "execution_count": 3,
     "metadata": {},
     "output_type": "execute_result"
    }
   ],
   "source": [
    "# This a simple arithmetic expression to mutiply then add integers.\n",
    "(3*4)+5"
   ]
  },
  {
   "cell_type": "code",
   "execution_count": 8,
   "id": "120b2ad8-b1d3-43e3-8c46-9521d2b94f8a",
   "metadata": {},
   "outputs": [
    {
     "data": {
      "text/plain": [
       "3.3333333333333335"
      ]
     },
     "execution_count": 8,
     "metadata": {},
     "output_type": "execute_result"
    }
   ],
   "source": [
    "# This will convert 200 minutes to hours by diving by 60.\n",
    "200 / 60"
   ]
  },
  {
   "cell_type": "markdown",
   "id": "c134f8f7-8a10-4b4a-9b55-5747f2ddeac2",
   "metadata": {},
   "source": [
    "## Author\n",
    "Azi"
   ]
  },
  {
   "cell_type": "code",
   "execution_count": null,
   "id": "2e2feedf-6369-40e4-9b10-771805e99787",
   "metadata": {},
   "outputs": [],
   "source": []
  }
 ],
 "metadata": {
  "kernelspec": {
   "display_name": "Python 3 (ipykernel)",
   "language": "python",
   "name": "python3"
  },
  "language_info": {
   "codemirror_mode": {
    "name": "ipython",
    "version": 3
   },
   "file_extension": ".py",
   "mimetype": "text/x-python",
   "name": "python",
   "nbconvert_exporter": "python",
   "pygments_lexer": "ipython3",
   "version": "3.12.8"
  }
 },
 "nbformat": 4,
 "nbformat_minor": 5
}
